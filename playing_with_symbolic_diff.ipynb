{
 "cells": [
  {
   "cell_type": "code",
   "execution_count": 17,
   "metadata": {},
   "outputs": [
    {
     "data": {
      "text/plain": [
       "5"
      ]
     },
     "execution_count": 17,
     "metadata": {},
     "output_type": "execute_result"
    }
   ],
   "source": [
    "import numpy as np\n",
    "class Expression():\n",
    "    def compute_expression(self, *terms):\n",
    "        output = 0\n",
    "        for term in terms:\n",
    "            output =  output + term\n",
    "        \n",
    "        return output \n",
    "\n",
    "class term(): \n",
    "    def __init__(self, variable):\n",
    "        self.variable = variable\n",
    "\n",
    "    def negation(self):\n",
    "        return -self.variable\n",
    "    \n",
    "    def power(self, n):\n",
    "        return np.power(self.variable, n)\n",
    "    \n",
    "    def add(self, x):\n",
    "        return self.variable + x\n",
    "\n",
    "x = 2\n",
    "term_1 = term(x)\n",
    "term_1.power(3)\n",
    "term_1.add(3)"
   ]
  },
  {
   "cell_type": "code",
   "execution_count": 40,
   "metadata": {},
   "outputs": [
    {
     "name": "stdout",
     "output_type": "stream",
     "text": [
      "Help on function derivative in module scipy.misc._common:\n",
      "\n",
      "derivative(func, x0, dx=1.0, n=1, args=(), order=3)\n",
      "    Find the nth derivative of a function at a point.\n",
      "    \n",
      "    Given a function, use a central difference formula with spacing `dx` to\n",
      "    compute the nth derivative at `x0`.\n",
      "    \n",
      "    .. deprecated:: 1.10.0\n",
      "        `derivative` has been deprecated from `scipy.misc.derivative`\n",
      "        in SciPy 1.10.0 and it will be completely removed in SciPy 1.12.0.\n",
      "        You may consider using\n",
      "        findiff: https://github.com/maroba/findiff or\n",
      "        numdifftools: https://github.com/pbrod/numdifftools\n",
      "    \n",
      "    Parameters\n",
      "    ----------\n",
      "    func : function\n",
      "        Input function.\n",
      "    x0 : float\n",
      "        The point at which the nth derivative is found.\n",
      "    dx : float, optional\n",
      "        Spacing.\n",
      "    n : int, optional\n",
      "        Order of the derivative. Default is 1.\n",
      "    args : tuple, optional\n",
      "        Arguments\n",
      "    order : int, optional\n",
      "        Number of points to use, must be odd.\n",
      "    \n",
      "    Notes\n",
      "    -----\n",
      "    Decreasing the step size too small can result in round-off error.\n",
      "    \n",
      "    Examples\n",
      "    --------\n",
      "    >>> from scipy.misc import derivative\n",
      "    >>> def f(x):\n",
      "    ...     return x**3 + x**2\n",
      "    >>> derivative(f, 1.0, dx=1e-6)\n",
      "    4.9999999999217337\n",
      "\n"
     ]
    },
    {
     "name": "stderr",
     "output_type": "stream",
     "text": [
      "/var/folders/t_/cwzxhj6j76z7wcn70r3fk72m0000gn/T/ipykernel_52844/225839304.py:6: DeprecationWarning: scipy.misc.derivative is deprecated in SciPy v1.10.0; and will be completely removed in SciPy v1.12.0. You may consider using findiff: https://github.com/maroba/findiff or numdifftools: https://github.com/pbrod/numdifftools\n",
      "  derivative(np.sin, 0,  dx=1e-10)\n"
     ]
    },
    {
     "data": {
      "text/plain": [
       "1.0"
      ]
     },
     "execution_count": 40,
     "metadata": {},
     "output_type": "execute_result"
    }
   ],
   "source": [
    "import scipy\n",
    "from scipy.misc import derivative\n",
    "\n",
    "help(derivative)\n",
    "\n",
    "derivative(np.sin, 0,  dx=1e-10)"
   ]
  },
  {
   "cell_type": "code",
   "execution_count": 22,
   "metadata": {},
   "outputs": [
    {
     "data": {
      "text/latex": [
       "$\\displaystyle 6 x - 3 y + 4 e^{x} e^{x + y} + \\sin{\\left(x \\right)} - 4 \\sin{\\left(2 x - y^{2} + y \\right)}$"
      ],
      "text/plain": [
       "6*x - 3*y + 4*exp(x)*exp(x + y) + sin(x) - 4*sin(2*x - y**2 + y)"
      ]
     },
     "execution_count": 22,
     "metadata": {},
     "output_type": "execute_result"
    }
   ],
   "source": [
    "import sympy as sy\n",
    "from sympy import Symbol, diff, sin, cos, exp\n",
    "# x_sq = sy.\n",
    "# dx_dx\n",
    "\n",
    "x,y  = sy.symbols('x y', real=True) # defining the variables\n",
    "\n",
    "\n",
    "z = x+y + x-y**2\n",
    "diff(z,y)\n",
    "diff(diff(sin(z)+ cos(y) + exp(y+x)*exp(x)-sin(x), x), x) + 2*x+4*x-6*y+3*y\n",
    "\n",
    "# double_der.evalf(subs={x:1,y:2,z:3})"
   ]
  },
  {
   "cell_type": "code",
   "execution_count": null,
   "metadata": {},
   "outputs": [],
   "source": []
  }
 ],
 "metadata": {
  "kernelspec": {
   "display_name": "base",
   "language": "python",
   "name": "python3"
  },
  "language_info": {
   "codemirror_mode": {
    "name": "ipython",
    "version": 3
   },
   "file_extension": ".py",
   "mimetype": "text/x-python",
   "name": "python",
   "nbconvert_exporter": "python",
   "pygments_lexer": "ipython3",
   "version": "3.9.13"
  }
 },
 "nbformat": 4,
 "nbformat_minor": 2
}
